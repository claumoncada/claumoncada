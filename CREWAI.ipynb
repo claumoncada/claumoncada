{
  "cells": [
    {
      "cell_type": "markdown",
      "metadata": {
        "id": "Gi4CjW2Q07dA"
      },
      "source": [
        "## Ejemplo de uso"
      ]
    },
    {
      "cell_type": "markdown",
      "metadata": {},
      "source": [
        "- conda environment python = 3.11\n",
        "- install chromadb\n",
        "- install crewai-tools"
      ]
    },
    {
      "cell_type": "code",
      "execution_count": 1,
      "metadata": {},
      "outputs": [],
      "source": [
        "from crewai_tools import CSVSearchTool"
      ]
    },
    {
      "cell_type": "code",
      "execution_count": 2,
      "metadata": {
        "id": "741xvvcyTxj7"
      },
      "outputs": [],
      "source": [
        "import os\n",
        "import yaml\n",
        "from crewai import Agent, Task, Crew, Process, LLM"
      ]
    },
    {
      "cell_type": "code",
      "execution_count": null,
      "metadata": {
        "id": "6VmjIdi_3A4x"
      },
      "outputs": [],
      "source": [
        "# Cargar la API Key de OpenAI\n",
        "os.environ[\"OPENAI_API_KEY\"] = \"XXX\"\n",
        "os.environ['OPENAI_MODEL_NAME'] = 'gpt-4.1-mini'"
      ]
    },
    {
      "cell_type": "markdown",
      "metadata": {},
      "source": [
        "Ejemplo general de prueba"
      ]
    },
    {
      "cell_type": "code",
      "execution_count": null,
      "metadata": {
        "id": "OMz2-xHEwip7"
      },
      "outputs": [],
      "source": [
        "# Paso 1: Crear los agentes\n",
        "\n",
        "# Agente 1: Investigador\n",
        "investigador = Agent(\n",
        "    role=\"Investigador de temas\",\n",
        "    goal=\"Buscar información precisa y actualizada sobre el tema solicitado\",\n",
        "    backstory=\"Es un experto en búsqueda en internet y recolección de datos fiables.\",\n",
        "    verbose=False\n",
        ")\n",
        "\n",
        "# Agente 2: Redactor\n",
        "redactor = Agent(\n",
        "    role=\"Redactor técnico\",\n",
        "    goal=\"Escribir un resumen claro y profesional con base en la información recopilada\",\n",
        "    backstory=\"Especialista en redacción de contenido técnico y divulgación.\",\n",
        "    verbose=False\n",
        ")"
      ]
    },
    {
      "cell_type": "code",
      "execution_count": null,
      "metadata": {
        "id": "UiFsr2A5wfnK"
      },
      "outputs": [],
      "source": [
        "# Paso 2: Definir las tareas\n",
        "\n",
        "# Tarea 1: Búsqueda de información\n",
        "tarea_busqueda = Task(\n",
        "    description=\"Investiga sobre los últimos avances en energía solar. Incluye descubrimientos recientes, tecnologías emergentes y tendencias del mercado.\",\n",
        "    expected_output=\"Un documento con los datos clave encontrados\",\n",
        "    agent=investigador\n",
        ")\n",
        "\n",
        "# Tarea 2: Redacción del resumen\n",
        "tarea_resumen = Task(\n",
        "    description=\"Usa la información del investigador para crear un resumen ejecutivo de máximo 300 palabras sobre los avances en energía solar.\",\n",
        "    expected_output=\"Un resumen claro, profesional y de fácil comprensión\",\n",
        "    agent=redactor\n",
        ")"
      ]
    },
    {
      "cell_type": "code",
      "execution_count": null,
      "metadata": {
        "id": "IAe1tcmLwpUv"
      },
      "outputs": [],
      "source": [
        "# Crew (equipo)\n",
        "equipo = Crew(\n",
        "    agents=[investigador, redactor],\n",
        "    tasks=[tarea_busqueda, tarea_resumen],\n",
        "    verbose=False\n",
        ")"
      ]
    },
    {
      "cell_type": "code",
      "execution_count": null,
      "metadata": {
        "collapsed": true,
        "id": "qrCyImP4ytIa"
      },
      "outputs": [],
      "source": [
        "# Ejecutar la colaboración entre agentes\n",
        "resultado = equipo.kickoff()\n"
      ]
    },
    {
      "cell_type": "code",
      "execution_count": null,
      "metadata": {
        "id": "ZulJIQZP4ugD"
      },
      "outputs": [],
      "source": [
        "print(\"\\n📝 Resultado final:\\n\")\n",
        "print(resultado)"
      ]
    },
    {
      "cell_type": "markdown",
      "metadata": {
        "id": "0TQ7RFMl1AwC"
      },
      "source": [
        "## Caso de estudio puntual"
      ]
    },
    {
      "cell_type": "markdown",
      "metadata": {
        "id": "fUbEoypVAqOA"
      },
      "source": [
        "Ejemplo definiendo un agente por cada tipo de ticket"
      ]
    },
    {
      "cell_type": "code",
      "execution_count": null,
      "metadata": {
        "id": "ST-VDcMvCH49"
      },
      "outputs": [],
      "source": [
        "import os\n",
        "from crewai import Agent, Task, Crew"
      ]
    },
    {
      "cell_type": "code",
      "execution_count": null,
      "metadata": {
        "id": "qC4K21fhCJko"
      },
      "outputs": [],
      "source": [
        "# Sample ticket\n",
        "ticket = {\n",
        "    \"ticket_id\": \"1001\",\n",
        "    \"customer_message\": \"My laptop won't connect to WiFi and I need help ASAP.\"\n",
        "}"
      ]
    },
    {
      "cell_type": "code",
      "execution_count": null,
      "metadata": {
        "id": "KlQVnBqiCNnY"
      },
      "outputs": [],
      "source": [
        "# Step 1: Define Agents\n",
        "supervisor = Agent(\n",
        "    role=\"Ticket Classifier\",\n",
        "    goal=\"Classify customer support tickets into IT, Project, or Marketing topics.\",\n",
        "    backstory=\"A senior supervisor who accurately identifies the topic of customer issues.\",\n",
        "    verbose=False\n",
        ")\n",
        "\n",
        "it_agent = Agent(\n",
        "    role=\"IT Support Agent\",\n",
        "    goal=\"Resolve IT issues reported by customers.\",\n",
        "    backstory=\"An IT technician who provides fast and effective support for technical problems.\",\n",
        "    verbose=False\n",
        ")\n",
        "\n",
        "project_agent = Agent(\n",
        "    role=\"Project Agent\",\n",
        "    goal=\"Handle project-related inquiries from customers.\",\n",
        "    backstory=\"An experienced project manager who supports clients on timelines and tasks.\",\n",
        "    verbose=False\n",
        ")\n",
        "\n",
        "marketing_agent = Agent(\n",
        "    role=\"Marketing Agent\",\n",
        "    goal=\"Respond to marketing-related concerns from customers.\",\n",
        "    backstory=\"A skilled marketing professional who communicates campaign details clearly.\",\n",
        "    verbose=False\n",
        ")\n"
      ]
    },
    {
      "cell_type": "code",
      "execution_count": null,
      "metadata": {
        "id": "owAWhouACPug"
      },
      "outputs": [],
      "source": [
        "# Step 2: Define Tasks\n",
        "\n",
        "# Task 1: Classification by supervisor\n",
        "classification_task = Task(\n",
        "    description=(\n",
        "        f\"You are the supervisor. Classify the following ticket into one of these categories: \"\n",
        "        f\"'IT', 'Project', or 'Marketing'.\\n\\n\"\n",
        "        f\"Customer message: {ticket['customer_message']}\"\n",
        "    ),\n",
        "    expected_output=\"Only respond with one word: IT, Project, or Marketing.\",\n",
        "    agent=supervisor\n",
        ")"
      ]
    },
    {
      "cell_type": "code",
      "execution_count": null,
      "metadata": {
        "id": "fnrcaQ0VCU84"
      },
      "outputs": [],
      "source": [
        "# We will run this first to get the classification\n",
        "crew1 = Crew(\n",
        "    agents=[supervisor],\n",
        "    tasks=[classification_task],\n",
        "    verbose=False\n",
        ")\n",
        "\n",
        "classification_result = str(crew1.kickoff()).strip().lower()\n"
      ]
    },
    {
      "cell_type": "code",
      "execution_count": null,
      "metadata": {
        "colab": {
          "base_uri": "https://localhost:8080/"
        },
        "id": "qwKRLOEpCE_J",
        "outputId": "602deb6f-273f-4a2f-eb08-64c534436160"
      },
      "outputs": [
        {
          "name": "stdout",
          "output_type": "stream",
          "text": [
            "\n",
            "🧾 Ticket ID: 1001\n",
            "📂 Classification: It\n",
            "💬 Agent Response:\n",
            "I'm sorry to hear that your laptop isn't connecting to WiFi. Let's go through some detailed troubleshooting steps to get your connection working again as quickly as possible:\n",
            "\n",
            "1. **Check WiFi is turned on:**\n",
            "   - On your laptop, ensure the WiFi is enabled. You can usually do this by clicking the WiFi icon in the system tray (usually bottom-right corner on Windows, top-right on macOS).\n",
            "   - Also, some laptops have a physical WiFi switch or a function key (like Fn + F2) to toggle WiFi – make sure it is on.\n",
            "\n",
            "2. **Restart your laptop and router/modem:**\n",
            "   - Sometimes simply rebooting your devices resolves connectivity issues.\n",
            "   - Turn off your laptop, unplug your router and modem from power for about 30 seconds, then plug them back in.\n",
            "   - After the router/modem fully powers back on, turn your laptop back on and try connecting again.\n",
            "\n",
            "3. **Forget and reconnect to the WiFi network:**\n",
            "   - On your laptop, go to the list of WiFi networks.\n",
            "   - Select your WiFi network, and choose \"Forget\" or \"Remove\" network.\n",
            "   - Then search for the network again and reconnect by entering your WiFi password carefully.\n",
            "\n",
            "4. **Check for airplane mode and network issues:**\n",
            "   - Ensure your laptop is not in Airplane mode (found in network settings).\n",
            "   - Confirm other devices (phones, tablets) can connect to the same WiFi to narrow down if the problem is with the laptop or the network.\n",
            "\n",
            "5. **Run the network troubleshooter (Windows):**\n",
            "   - Type \"Network troubleshooter\" in the Windows search bar and run the tool. It can diagnose and sometimes fix network problems automatically.\n",
            "   \n",
            "6. **Update network drivers:**\n",
            "   - Go to Device Manager -> Network adapters.\n",
            "   - Right-click on your WiFi adapter -> Update driver -> Search automatically.\n",
            "   - Outdated or corrupt drivers can cause connectivity issues.\n",
            "\n",
            "7. **Reset network settings:**\n",
            "   - On Windows, go to Settings > Network & Internet > Status > Network reset.\n",
            "   - On macOS, go to System Preferences > Network, select your WiFi adapter, click the minus (-) sign to remove it, then add it again with plus (+) sign.\n",
            "\n",
            "8. **Check IP settings:**\n",
            "   - Ensure your network adapter is set to obtain IP and DNS automatically.\n",
            "   - In Windows: Control Panel > Network and Sharing Center > Change adapter settings > Right-click WiFi > Properties > Internet Protocol Version 4 (TCP/IPv4) > Properties.\n",
            "   - Select \"Obtain an IP address automatically\" and \"Obtain DNS server address automatically.\"\n",
            "\n",
            "9. **Additional help:**\n",
            "   - If none of the above resolves the issue, please provide any error messages you see, your laptop’s operating system, and whether the WiFi network is visible but fails to connect, or if it doesn't show up at all.\n",
            "\n",
            "Try these steps, and let me know which step resolves the issue or if you need further assistance. I'm here to help!\n"
          ]
        }
      ],
      "source": [
        "\n",
        "# Step 3: Dynamically choose specialized task based on classification\n",
        "\n",
        "if \"it\" in classification_result:\n",
        "    specialized_task = Task(\n",
        "        description=f\"Respond to this IT-related customer issue:\\n\\n{ticket['customer_message']}\",\n",
        "        expected_output=\"A detailed and helpful response to resolve the customer's IT issue.\",\n",
        "        agent=it_agent\n",
        "    )\n",
        "elif \"project\" in classification_result:\n",
        "    specialized_task = Task(\n",
        "        description=f\"Respond to this project-related customer concern:\\n\\n{ticket['customer_message']}\",\n",
        "        expected_output=\"A professional answer addressing the customer's project concern.\",\n",
        "        agent=project_agent\n",
        "    )\n",
        "elif \"marketing\" in classification_result:\n",
        "    specialized_task = Task(\n",
        "        description=f\"Respond to this marketing-related customer message:\\n\\n{ticket['customer_message']}\",\n",
        "        expected_output=\"A clear and informative marketing response.\",\n",
        "        agent=marketing_agent\n",
        "    )\n",
        "else:\n",
        "    print(\"❌ Could not classify ticket. No specialized task executed.\")\n",
        "    specialized_task = None\n",
        "\n",
        "# Step 4: Execute specialized task\n",
        "if specialized_task:\n",
        "    crew2 = Crew(\n",
        "        agents=[specialized_task.agent],\n",
        "        tasks=[specialized_task],\n",
        "        verbose=False\n",
        "    )\n",
        "    final_response = crew2.kickoff()\n",
        "\n",
        "    print(f\"\\n🧾 Ticket ID: {ticket['ticket_id']}\")\n",
        "    print(f\"📂 Classification: {classification_result.capitalize()}\")\n",
        "    print(f\"💬 Agent Response:\\n{final_response}\")\n"
      ]
    },
    {
      "cell_type": "markdown",
      "metadata": {
        "id": "MgZhC7tnET6h"
      },
      "source": [
        "Ejemplo definiendo una arquitectura secuencial, un solo agente que analice cualquier ticket y realice varias actividades con ese ticket"
      ]
    },
    {
      "cell_type": "code",
      "execution_count": null,
      "metadata": {
        "id": "EZGWuFFASRph"
      },
      "outputs": [],
      "source": [
        "# Simula lectura de CSV con una lista de tickets (id y descripción)\n",
        "tickets = [\n",
        "    {\"ticket_id\": \"1001\", \"description\": \"My laptop won't connect to WiFi and I need urgent help.\"},\n",
        "    {\"ticket_id\": \"1002\", \"description\": \"I want to know the status of project X and the delivery date.\"},\n",
        "    {\"ticket_id\": \"1003\", \"description\": \"I did not receive the last invoice and I need it to be sent to me.\"},\n",
        "]"
      ]
    },
    {
      "cell_type": "code",
      "execution_count": null,
      "metadata": {
        "id": "YmsD96xvSVHa"
      },
      "outputs": [],
      "source": [
        "# Agents\n",
        "\n",
        "reader_agent = Agent(\n",
        "    name=\"ReaderAgent\",\n",
        "    role=\"Read tickets from CSV and send description to classifier agent\",\n",
        "    goal=\"Read and submit tickets one by one for classification\",\n",
        "    backstory=\"Extract tickets from a database or CSV for processing in the support chain.\",\n",
        "    verbose=False\n",
        ")\n",
        "\n",
        "classifier_agent = Agent(\n",
        "    name=\"ClassifierAgent\",\n",
        "    role=\"Classify tickets into categories\",\n",
        "    goal=\"Assign to each ticket a category: Technical Support, Billing, Project, Marketing, Other.\",\n",
        "    backstory=\"Specialist in classifying tickets to direct them to the right agent.\",\n",
        "    verbose=False\n",
        ")\n",
        "\n",
        "specialist_agent = Agent(\n",
        "    name=\"SpecialistAgent\",\n",
        "    role=\"Analyze ticket and generate response\",\n",
        "    goal=(\n",
        "        \"Determine priority, extract keywords, analyze problem and write response \"\n",
        "        \"professional and empathetic to the client.\"\n",
        "    ),\n",
        "    backstory=\"Agent specialized in deep ticket analysis and response generation.\",\n",
        "    verbose=False\n",
        ")"
      ]
    },
    {
      "cell_type": "code",
      "execution_count": null,
      "metadata": {
        "id": "_aT3hF18SZsf"
      },
      "outputs": [],
      "source": [
        "# Función para procesar un ticket completo\n",
        "def procesar_ticket(ticket):\n",
        "\n",
        "    # 1. Clasificación\n",
        "    task_clasify = Task(\n",
        "        description=(\n",
        "            f\"Classify the following ticket into a category (Technical Support, Billing, Project, Marketing, Other):\\n\\n\"\n",
        "            f\"Ticket: \\\"{ticket['description']}\\\"\"\n",
        "        ),\n",
        "        expected_output=\"A single suggested category.\",\n",
        "        agent=classifier_agent\n",
        "    )\n",
        "    crew_classify = Crew(agents=[classifier_agent], tasks=[task_clasify], verbose=False)\n",
        "    categoria = str(crew_classify.kickoff()).strip()\n",
        "\n",
        "    # 2. Análisis + respuesta con agente especialista\n",
        "    task_specialist = Task(\n",
        "        description=(\n",
        "            f\"For the next ticket with category '{categoria}':\\n\\n\"\n",
        "            f\"\\\"{ticket['description']}\\\"\\n\\n\"\n",
        "            \"Performs the following:\\n\"\n",
        "            \"1. Determines the priority level: Critical, Medium or Low.\\n\"\n",
        "            \"2. Extract the most important keywords.\\n\"\n",
        "            \"3. Analyze the main problem.\\n\"\n",
        "            \"4. Write a professional, clear and empathetic response to the client.\\n\\n\"\n",
        "            \"Returns the information in this exact format:\\n\"\n",
        "            \"Priority: <level>\\n\"\n",
        "            \"Keywords: <list>\\n\"\n",
        "            \"Analysis: <short analysis>\\n\"\n",
        "            \"Answer: <text in the answer>\\n\"\n",
        "        ),\n",
        "        expected_output=\"Text with priority, keywords, analysis and response.\",\n",
        "        agent=specialist_agent\n",
        "    )\n",
        "    crew_specialist = Crew(agents=[specialist_agent], tasks=[task_specialist], verbose=False)\n",
        "    analisis_y_respuesta = str(crew_specialist.kickoff()).strip()"
      ]
    },
    {
      "cell_type": "code",
      "execution_count": null,
      "metadata": {
        "colab": {
          "base_uri": "https://localhost:8080/"
        },
        "id": "YDkdIZOAKasH",
        "outputId": "1589ad0d-d318-4150-acf2-10a25b35713b"
      },
      "outputs": [
        {
          "name": "stdout",
          "output_type": "stream",
          "text": [
            "\n",
            "🧾 Ticket ID: 1001\n",
            "📂 Category of the ticket: Technical Support\n",
            "Priority: Critical\n",
            "Keywords: laptop, won't connect, WiFi, urgent help\n",
            "Analysis: The client is experiencing a complete inability to connect their laptop to WiFi, which is likely preventing them from working or accessing important services. Since they emphasize urgency, this issue is impacting their productivity or critical tasks and needs prompt resolution.\n",
            "Answer: Dear Customer,\n",
            "\n",
            "I’m sorry to hear that your laptop is unable to connect to WiFi. I understand how important it is to have a reliable internet connection, especially when you need urgent access. Let’s work together to get this resolved quickly.\n",
            "\n",
            "Please try the following steps:\n",
            "1. Restart your laptop and your WiFi router/modem.\n",
            "2. Make sure WiFi is enabled on your laptop.\n",
            "3. Check if your laptop detects any available networks.\n",
            "4. If it detects your network, try forgetting the network and reconnecting by entering the password again.\n",
            "5. Ensure your network drivers are up to date.\n",
            "\n",
            "If these steps don’t work, could you please provide the laptop model and operating system version? Also, let us know if there are any error messages when trying to connect.\n",
            "\n",
            "We’re here to help and will prioritize resolving this issue for you as quickly as possible.\n",
            "\n",
            "Best regards,  \n",
            "[Your Name]  \n",
            "Technical Support Team\n",
            "---------------------------------------------------\n",
            "\n",
            "🧾 Ticket ID: 1002\n",
            "📂 Category of the ticket: Project\n",
            "Priority: Medium\n",
            "Keywords: project X, status, delivery date\n",
            "Analysis: The client is seeking an update on the progress and expected completion timeline for project X. They need clear and timely information to manage their expectations or plan accordingly.\n",
            "\n",
            "Answer: \n",
            "Dear [Client Name],\n",
            "\n",
            "Thank you for reaching out regarding the status of project X. We understand the importance of timely updates and want to assure you that we are committed to keeping you informed.\n",
            "\n",
            "Currently, project X is progressing according to schedule. Our team is focused on meeting all outlined milestones to ensure a successful delivery. The estimated delivery date remains [insert delivery date], barring any unforeseen circumstances.\n",
            "\n",
            "If you would like, I can provide you with a more detailed progress report or address any specific concerns you may have. Please let me know how we can assist you further.\n",
            "\n",
            "We appreciate your patience and continued partnership.\n",
            "\n",
            "Best regards,  \n",
            "[Your Name]  \n",
            "[Your Position]  \n",
            "[Company Name]\n",
            "---------------------------------------------------\n",
            "\n",
            "🧾 Ticket ID: 1003\n",
            "📂 Category of the ticket: Billing\n",
            "Priority: Medium\n",
            "Keywords: did not receive, last invoice, need, sent\n",
            "Analysis: The client states they have not received their most recent invoice and requires it to be sent. This is a moderate priority issue since the client needs the invoice potentially for payment or record-keeping but it does not indicate emergency or system malfunction.\n",
            "\n",
            "Answer: \n",
            "Dear Customer,\n",
            "\n",
            "Thank you for reaching out to us. I’m sorry to hear that you have not received your last invoice. I understand how important it is to have this documentation promptly.\n",
            "\n",
            "I have checked our system and will resend the most recent invoice to the email address we have on file for you. Please allow a few moments to receive it, and kindly check your spam or junk folder just in case it was filtered there.\n",
            "\n",
            "If you do not receive the invoice shortly or if you have any other questions, please feel free to contact us again. We are here to assist you.\n",
            "\n",
            "Thank you for your patience and understanding.\n",
            "\n",
            "Best regards,  \n",
            "[Your Company’s Customer Support Team]\n",
            "---------------------------------------------------\n"
          ]
        }
      ],
      "source": [
        "# Imprimir resultado completo\n",
        "print(f\"\\n🧾 Ticket ID: {ticket['ticket_id']}\")\n",
        "print(f\"📂 Category of the ticket: {categoria}\")\n",
        "print(analisis_y_respuesta)\n",
        "print(\"---------------------------------------------------\")\n",
        "\n",
        "# Simular que el reader_agent pasa cada ticket\n",
        "for ticket in tickets:\n",
        "    procesar_ticket(ticket)"
      ]
    }
  ],
  "metadata": {
    "colab": {
      "provenance": []
    },
    "kernelspec": {
      "display_name": "prueba",
      "language": "python",
      "name": "python3"
    },
    "language_info": {
      "codemirror_mode": {
        "name": "ipython",
        "version": 3
      },
      "file_extension": ".py",
      "mimetype": "text/x-python",
      "name": "python",
      "nbconvert_exporter": "python",
      "pygments_lexer": "ipython3",
      "version": "3.11.13"
    }
  },
  "nbformat": 4,
  "nbformat_minor": 0
}
